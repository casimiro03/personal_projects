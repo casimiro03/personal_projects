{
 "cells": [
  {
   "cell_type": "code",
   "execution_count": 17,
   "metadata": {},
   "outputs": [
    {
     "name": "stdout",
     "output_type": "stream",
     "text": [
      "[1, 2, 3, 4, 5, '6', '7', '8']\n",
      "['C', 'r', 'o', 'c', 'o', 'd', 'i', 'l', 'l', 'e']\n",
      "['My', 'House', 'Is', 'Not', 'A', 'Home']\n"
     ]
    }
   ],
   "source": [
    "# Add more elements than just one\n",
    "x = [1,2,3,4,5]\n",
    "y=\"678\"\n",
    "x.extend(y)\n",
    "\n",
    "print(x)\n",
    "\n",
    "# Convert a string into a list of individual characters.\n",
    "list1 = [\"Crocodille\"]\n",
    "individual_char= list(list1[0])\n",
    "print(individual_char)\n",
    "\n",
    "word1= \"My House Is Not A Home\"\n",
    "\n",
    "splited_words = word1.split(\" \")\n",
    "    # This use the char in parenthesis as the separator and \"split\" the list returning the elements without the char in parenthesis used before for slice\n",
    "\n",
    "print(splited_words) \n"
   ]
  },
  {
   "cell_type": "code",
   "execution_count": 16,
   "metadata": {},
   "outputs": [
    {
     "name": "stdout",
     "output_type": "stream",
     "text": [
      "[1]\n"
     ]
    },
    {
     "data": {
      "text/plain": [
       "'\"\\ndef recorrer_lista(lista, index=0):\\n    # Caso base: si el índice es igual o mayor al tamaño de la lista, se detiene\\n    if index >= len(lista):\\n        return\\n    # Procesa el elemento en la posición actual\\n    print(lista[index])\\n    # Llama a la función recursivamente para el siguiente elemento\\n    recorrer_lista(lista, index + 1)\\n\\n# Ejemplo de uso\\nmi_lista = [1, 2, 3, 4, 5]\\nrecorrer_lista(mi_lista)\\n'"
      ]
     },
     "execution_count": 16,
     "metadata": {},
     "output_type": "execute_result"
    }
   ],
   "source": [
    "def remove_elem(L,e):\n",
    "    \"\"\"\n",
    "\n",
    "    Args:\n",
    "        L (list):\n",
    "        e (int): \n",
    "                 \n",
    "        \n",
    "        \n",
    "    \"\"\"\n",
    "    newlist= []\n",
    "    for i in L:\n",
    "        if i != e:\n",
    "            newlist.append(i)\n",
    "    return newlist\n",
    "l = [1,2,2,2]\n",
    "print(remove_elem(l, 2)) # prints [1]"
   ]
  }
 ],
 "metadata": {
  "kernelspec": {
   "display_name": "venv",
   "language": "python",
   "name": "python3"
  },
  "language_info": {
   "codemirror_mode": {
    "name": "ipython",
    "version": 3
   },
   "file_extension": ".py",
   "mimetype": "text/x-python",
   "name": "python",
   "nbconvert_exporter": "python",
   "pygments_lexer": "ipython3",
   "version": "3.12.6"
  }
 },
 "nbformat": 4,
 "nbformat_minor": 2
}
